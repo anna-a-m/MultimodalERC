{
 "cells": [
  {
   "cell_type": "code",
   "execution_count": 20,
   "id": "8d7359de",
   "metadata": {},
   "outputs": [],
   "source": [
    "import pandas as pd\n",
    "import os\n",
    "import cv2\n",
    "from tqdm import tqdm\n",
    "from torch.utils.data import Dataset, DataLoader\n",
    "from sklearn.model_selection import train_test_split\n",
    "from collections import Counter\n",
    "\n",
    "import torch\n",
    "from transformers import AutoProcessor, XCLIPVisionModel, AutoModel\n",
    "from sklearn.metrics import f1_score\n",
    "from torch.nn import DataParallel\n",
    "from torch import nn\n",
    "from torch.nn import CrossEntropyLoss\n",
    "\n",
    "import matplotlib.pyplot as plt\n",
    "from IPython.display import clear_output\n",
    "import time\n",
    "\n",
    "import random\n",
    "import numpy as np"
   ]
  },
  {
   "cell_type": "markdown",
   "id": "57ab6ad8",
   "metadata": {},
   "source": [
    "### Data Classes"
   ]
  },
  {
   "cell_type": "code",
   "execution_count": 5,
   "id": "1f96482c",
   "metadata": {},
   "outputs": [],
   "source": [
    "class TestValDataset(Dataset):\n",
    "    def __init__(self, data, feature_extractor, label2id, clip_len=16, frame_sample_rate=4):\n",
    "        self.feature_extractor = feature_extractor\n",
    "        self.label_dict = label2id\n",
    "        self.data = data\n",
    "\n",
    "    def __getitem__(self, idx):\n",
    "        file_path = self.data.iloc[idx]['file_path']\n",
    "        file_path = f'../../MELDSpeakers/{file_path}'\n",
    "        all_frames = os.listdir(file_path)\n",
    "        selected_inds = self.sample_frame_indices(len(all_frames))\n",
    "        selected_frames = [str(max(i, 0) + 1) + '.png' for i in selected_inds]\n",
    "        video = []\n",
    "        for frame in selected_frames:\n",
    "            image_path = file_path + '/' + frame\n",
    "            img = cv2.imread(image_path)\n",
    "            img = cv2.cvtColor(img, cv2.COLOR_BGR2RGB)\n",
    "            video.append(img)\n",
    "        \n",
    "        assert len(video) == 16, f'Somehow you got a wrong number of frames for video {file_path}!'\n",
    "    \n",
    "        encoding = self.feature_extractor(videos=video, return_tensors=\"pt\")\n",
    "\n",
    "        label = self.label_dict[self.data.iloc[idx]['Emotion']]\n",
    "        return encoding, label\n",
    "\n",
    "    def __len__(self):\n",
    "        return len(self.data)\n",
    "    \n",
    "    def sample_frame_indices(self, seg_len, clip_len=16, frame_sample_rate=4):\n",
    "        # seg_len -- how many frames are received\n",
    "        # clip_len -- how many frames to return\n",
    "        converted_len = int(clip_len * frame_sample_rate)\n",
    "        converted_len = min(converted_len, seg_len-1)\n",
    "        end_idx = np.random.randint(converted_len, seg_len)\n",
    "        start_idx = end_idx - converted_len\n",
    "        indices = np.linspace(start_idx, end_idx, num=clip_len)\n",
    "        indices = np.clip(indices, start_idx, end_idx - 1).astype(np.int64)\n",
    "        return indices"
   ]
  },
  {
   "cell_type": "code",
   "execution_count": 6,
   "id": "a71072f6",
   "metadata": {},
   "outputs": [],
   "source": [
    "def prepare_test_data(bs, feature_extractor):\n",
    "    full_df = pd.read_csv('../../MELDSpeakers/MELDSpeakers.csv')\n",
    "\n",
    "    test = full_df[full_df['part'] == 'test']\n",
    "    \n",
    "    labels = sorted(list(set(full_df['Emotion'])))\n",
    "    label2id, id2label = dict(), dict()\n",
    "    for i, label in enumerate(labels):\n",
    "        label2id[label] = i\n",
    "        id2label[i] = label\n",
    "    \n",
    "    test_dataset = TestValDataset(test, feature_extractor, label2id)\n",
    "    test_dataloader = DataLoader(test_dataset, batch_size=bs, shuffle=True)\n",
    "    \n",
    "    return len(labels), label2id, id2label, test_dataloader, test_dataset"
   ]
  },
  {
   "cell_type": "markdown",
   "id": "e7e39756",
   "metadata": {},
   "source": [
    "### Model Classes"
   ]
  },
  {
   "cell_type": "code",
   "execution_count": 7,
   "id": "02a9da2c",
   "metadata": {},
   "outputs": [],
   "source": [
    "class XCLIPClassificaionModel(nn.Module):\n",
    "    def __init__(self):\n",
    "        super(XCLIPClassificaionModel, self).__init__()\n",
    "        \n",
    "        self.base_model = XCLIPVisionModel.from_pretrained(\"microsoft/xclip-base-patch32\")\n",
    "        self.num_labels = 7   # hardcoded :(\n",
    "        \n",
    "        hidden_size = self.base_model.config.hidden_size\n",
    "        self.fc_norm = nn.LayerNorm(hidden_size)\n",
    "        self.classifier = nn.Linear(hidden_size, self.num_labels)\n",
    "        self.loss_fct = CrossEntropyLoss()\n",
    "        \n",
    "        self.pool1 = nn.AdaptiveAvgPool1d(1)\n",
    "        self.pool2 = nn.AdaptiveAvgPool1d(1)\n",
    "        \n",
    "    def forward(self, pixel_values, labels=None):\n",
    "        \n",
    "        batch_size, num_frames, num_channels, height, width = pixel_values.shape\n",
    "        pixel_values = pixel_values.reshape(-1, num_channels, height, width)\n",
    "\n",
    "        out = self.base_model(pixel_values)[0]  # [48, 50, 768]\n",
    "        out = torch.transpose(out, 1, 2)        # [48, 768, 50]\n",
    "        out = self.pool1(out)                   # [48, 768, 1]\n",
    "        out = torch.transpose(out, 1, 2)        # [48, 1, 768]\n",
    "        out = out.squeeze(1)                    # [48, 768]\n",
    "        hidden_out = out.view(batch_size, num_frames, -1)  # [3, 16, 768]\n",
    "        hidden_out = torch.transpose(hidden_out, 1, 2)     # [3, 768, 16]\n",
    "        pooled_out = self.pool2(hidden_out)                # [3, 768, 1]\n",
    "        pooled_out = torch.transpose(pooled_out, 1, 2)     # [3, 1, 768]\n",
    "\n",
    "        pooled_out = pooled_out[:, 0, :] # [3, 768]\n",
    "            \n",
    "        logits = self.classifier(pooled_out)\n",
    "        \n",
    "        loss = None\n",
    "        if labels is not None:\n",
    "            loss = self.loss_fct(logits.view(-1, self.num_labels), labels.view(-1))\n",
    "        \n",
    "        return {'logits': logits, 'loss': loss}"
   ]
  },
  {
   "cell_type": "code",
   "execution_count": 8,
   "id": "118693fb",
   "metadata": {},
   "outputs": [],
   "source": [
    "class EmotionClassificationModel():\n",
    "    \n",
    "    def __init__(self, model, device):\n",
    "        self.model = model\n",
    "        self.device = device\n",
    "#         self.model.to(device)\n",
    "        self.model = DataParallel(self.model).to(device)\n",
    "\n",
    "        \n",
    "    def __call__(self, pixel_values):\n",
    "        \n",
    "        self.model.eval()\n",
    "        \n",
    "        with torch.no_grad():\n",
    "            \n",
    "            pixel_values = pixel_values.to(self.device)\n",
    "\n",
    "            output = self.model(pixel_values)\n",
    "            logits = output['logits']\n",
    "            \n",
    "#             active_logits = logits.view(-1, self.model.num_labels)\n",
    "            active_logits = logits.view(-1, self.model.module.num_labels)\n",
    "            pred = torch.argmax(active_logits, axis=1)\n",
    "        return pred\n",
    "        \n",
    "    def validate(self, val_dataloader):\n",
    "        \n",
    "        self.model.eval()\n",
    "        \n",
    "        val_loss, val_fscore = 0, 0\n",
    "        \n",
    "        with torch.no_grad():\n",
    "            for batch in val_dataloader:\n",
    "\n",
    "                inputs, labels = batch\n",
    "                pixel_values = inputs['pixel_values'].squeeze(dim=1)\n",
    "                pixel_values = pixel_values.to(self.device)\n",
    "                labels = labels.to(self.device)\n",
    "                \n",
    "                output = self.model(pixel_values, labels=labels)\n",
    "                loss = output['loss']\n",
    "                logits = output['logits']\n",
    "                \n",
    "                if torch.cuda.device_count() > 1:\n",
    "                    loss = loss.mean()\n",
    "\n",
    "                val_loss += loss.item()\n",
    "\n",
    "                gold = labels.view(-1)\n",
    "#                 active_logits = logits.view(-1, self.model.num_labels)\n",
    "                active_logits = logits.view(-1, self.model.module.num_labels)\n",
    "                pred = torch.argmax(active_logits, axis=1) \n",
    "\n",
    "                fscore = f1_score(gold.cpu().numpy(), pred.cpu().numpy(), average='weighted')\n",
    "                val_fscore += fscore\n",
    "\n",
    "        avg_val_loss = val_loss / len(val_dataloader)\n",
    "        avg_val_f1 = val_fscore / len(val_dataloader)\n",
    "        return avg_val_loss, avg_val_f1\n",
    "    \n",
    "    def train(self, train_dataloader, val_dataloader, n_epoch, optimizer, checkpoint_step, model_save_name, patience):\n",
    "        \n",
    "        train_losses, val_losses = [], []\n",
    "        train_fscores, val_fscores = [], []\n",
    "        val_scores = []\n",
    "        no_improv_epochs = 0\n",
    "                \n",
    "        for epoch in range(n_epoch):\n",
    "            \n",
    "            \n",
    "            start_time = time.time()\n",
    "            \n",
    "            self.model.train()\n",
    "            \n",
    "            train_loss, train_fscore = 0, 0\n",
    "            step_train_losses, step_train_fscores, step_val_losses, step_val_fscores = [], [], [], []\n",
    "            \n",
    "            for step_num, batch in enumerate(train_dataloader):\n",
    "                                \n",
    "                inputs, labels = batch\n",
    "                pixel_values = inputs['pixel_values'].squeeze(dim=1)\n",
    "                pixel_values = pixel_values.to(self.device)\n",
    "                labels = labels.to(self.device)\n",
    "                \n",
    "                output = self.model(pixel_values, labels=labels)\n",
    "                loss = output['loss']\n",
    "                logits = output['logits']\n",
    "                \n",
    "                \n",
    "                if torch.cuda.device_count() > 1:\n",
    "                    loss = loss.mean()\n",
    "            \n",
    "                train_loss += loss.item()\n",
    "                \n",
    "                self.model.zero_grad()\n",
    "                loss.backward()\n",
    "                optimizer.step()\n",
    "\n",
    "                gold = labels.view(-1)\n",
    "                active_logits = logits.view(-1, self.model.module.num_labels)\n",
    "#                 active_logits = logits.view(-1, self.model.num_labels)\n",
    "                pred = torch.argmax(active_logits, axis=1) \n",
    "\n",
    "                fscore = f1_score(gold.cpu().numpy(), pred.cpu().numpy(), average='weighted')\n",
    "                train_fscore += fscore\n",
    "\n",
    "#                 wandb.log({\"batch train loss\": loss.item()})\n",
    "                \n",
    "            avg_train_loss = train_loss / len(train_dataloader)\n",
    "            avg_train_f1 = train_fscore / len(train_dataloader)\n",
    "            \n",
    "            # EARLY STOPPING CODE\n",
    "            avg_val_loss, avg_val_f1 = self.validate(val_dataloader)\n",
    "            val_scores.append(avg_val_f1)\n",
    "            if max(val_scores) > avg_val_f1:\n",
    "                no_improv_epochs += 1\n",
    "            else:\n",
    "                torch.save(self.model.module.state_dict(), 'XCLIP_Augmented.pt')\n",
    "            \n",
    "            if no_improv_epochs > patience:\n",
    "                return None\n",
    "            \n",
    "            train_losses.append(avg_train_loss)\n",
    "            train_fscores.append(avg_train_f1)\n",
    "            val_losses.append(avg_val_loss)\n",
    "            val_fscores.append(avg_val_f1)\n",
    "                        \n",
    "            wandb.log({\"train loss\": avg_train_loss, \"val loss\": avg_val_loss, \n",
    "                       \"train F1\": avg_train_f1, \"val F1\": avg_val_f1,\n",
    "                       \"epoch\": epoch}) \n",
    "        return None"
   ]
  },
  {
   "cell_type": "code",
   "execution_count": 12,
   "id": "c9942de1",
   "metadata": {},
   "outputs": [],
   "source": [
    "def test(test_dataloader, answer_model):\n",
    "    gold, pred = [], []\n",
    "    for batch in tqdm(test_dataloader):\n",
    "        a, b = batch\n",
    "        res = answer_model(a['pixel_values'].squeeze(1))\n",
    "        pred.extend(res.tolist())\n",
    "        gold.extend(b.tolist())\n",
    "    fscore = f1_score(gold, pred, average='weighted')\n",
    "    return fscore, gold, pred"
   ]
  },
  {
   "cell_type": "markdown",
   "id": "73927be1",
   "metadata": {},
   "source": [
    "### Read data"
   ]
  },
  {
   "cell_type": "code",
   "execution_count": 10,
   "id": "caa5bf12",
   "metadata": {},
   "outputs": [],
   "source": [
    "feature_extractor = AutoProcessor.from_pretrained(\"microsoft/xclip-base-patch32\")\n",
    "\n",
    "num_labels, label2id, id2label, test_dataloader, test_dataset = prepare_test_data(16, feature_extractor)"
   ]
  },
  {
   "cell_type": "markdown",
   "id": "44538686",
   "metadata": {},
   "source": [
    "### Load model"
   ]
  },
  {
   "cell_type": "code",
   "execution_count": 13,
   "id": "ecd8ece7",
   "metadata": {},
   "outputs": [
    {
     "name": "stderr",
     "output_type": "stream",
     "text": [
      "Some weights of the model checkpoint at microsoft/xclip-base-patch32 were not used when initializing XCLIPVisionModel: ['text_model.encoder.layers.9.layer_norm2.bias', 'mit.encoder.layers.0.layer_norm2.weight', 'text_model.final_layer_norm.bias', 'text_model.encoder.layers.6.mlp.fc1.weight', 'mit.encoder.layers.0.self_attn.out_proj.weight', 'text_model.encoder.layers.4.mlp.fc2.weight', 'text_model.encoder.layers.1.layer_norm1.bias', 'text_model.encoder.layers.3.self_attn.q_proj.weight', 'text_model.encoder.layers.9.self_attn.out_proj.bias', 'text_model.encoder.layers.11.mlp.fc1.weight', 'text_model.encoder.layers.11.layer_norm1.bias', 'text_model.encoder.layers.11.mlp.fc2.bias', 'text_model.encoder.layers.4.self_attn.q_proj.bias', 'text_model.encoder.layers.4.mlp.fc2.bias', 'text_model.encoder.layers.9.self_attn.k_proj.bias', 'text_model.encoder.layers.11.self_attn.k_proj.weight', 'text_model.encoder.layers.6.self_attn.v_proj.weight', 'text_model.encoder.layers.10.mlp.fc1.weight', 'prompts_generator.decoder.0.mlp.0.bias', 'text_model.encoder.layers.4.self_attn.out_proj.bias', 'text_projection.weight', 'mit.encoder.layers.0.layer_norm1.bias', 'text_model.encoder.layers.7.mlp.fc2.bias', 'text_model.encoder.layers.9.self_attn.out_proj.weight', 'text_model.encoder.layers.1.layer_norm2.weight', 'text_model.encoder.layers.5.self_attn.k_proj.weight', 'text_model.encoder.layers.1.self_attn.out_proj.weight', 'prompts_generator.decoder.1.cross_attn.k_proj.weight', 'prompts_generator.decoder.1.cross_attn.v_proj.weight', 'prompts_generator.decoder.0.cross_attn.proj.bias', 'text_model.encoder.layers.2.mlp.fc2.bias', 'text_model.encoder.layers.3.self_attn.k_proj.bias', 'text_model.encoder.layers.9.layer_norm1.bias', 'text_model.encoder.layers.6.self_attn.out_proj.bias', 'text_model.encoder.layers.9.self_attn.k_proj.weight', 'text_model.embeddings.position_embedding.weight', 'text_model.encoder.layers.2.layer_norm1.bias', 'text_model.encoder.layers.10.mlp.fc2.bias', 'text_model.encoder.layers.10.self_attn.out_proj.bias', 'text_model.encoder.layers.5.mlp.fc2.bias', 'text_model.encoder.layers.2.self_attn.out_proj.weight', 'text_model.encoder.layers.7.mlp.fc2.weight', 'prompts_generator.decoder.1.norm3.weight', 'text_model.encoder.layers.5.self_attn.q_proj.bias', 'text_model.encoder.layers.6.mlp.fc1.bias', 'mit.position_embedding', 'text_model.encoder.layers.10.self_attn.k_proj.weight', 'text_model.encoder.layers.7.self_attn.v_proj.weight', 'text_model.encoder.layers.7.self_attn.out_proj.weight', 'text_model.encoder.layers.8.layer_norm2.bias', 'text_model.encoder.layers.11.self_attn.v_proj.bias', 'prompts_generator.decoder.1.cross_attn.q_proj.weight', 'text_model.embeddings.token_embedding.weight', 'text_model.encoder.layers.1.mlp.fc2.bias', 'text_model.encoder.layers.0.self_attn.out_proj.bias', 'text_model.encoder.layers.11.self_attn.out_proj.weight', 'text_model.encoder.layers.1.self_attn.q_proj.weight', 'text_model.encoder.layers.11.layer_norm2.weight', 'text_model.encoder.layers.4.layer_norm2.bias', 'text_model.encoder.layers.7.mlp.fc1.weight', 'text_model.encoder.layers.3.mlp.fc1.weight', 'text_model.encoder.layers.1.mlp.fc1.bias', 'text_model.encoder.layers.4.layer_norm1.weight', 'text_model.encoder.layers.10.self_attn.v_proj.bias', 'text_model.encoder.layers.3.self_attn.k_proj.weight', 'text_model.encoder.layers.4.self_attn.v_proj.bias', 'text_model.encoder.layers.8.layer_norm1.bias', 'text_model.encoder.layers.5.layer_norm1.weight', 'text_model.encoder.layers.1.self_attn.k_proj.weight', 'text_model.encoder.layers.0.layer_norm2.weight', 'text_model.encoder.layers.3.self_attn.out_proj.weight', 'text_model.encoder.layers.10.self_attn.k_proj.bias', 'mit.encoder.layers.0.mlp.fc1.bias', 'text_model.encoder.layers.8.mlp.fc2.bias', 'text_model.encoder.layers.8.mlp.fc1.bias', 'text_model.encoder.layers.7.layer_norm1.bias', 'text_model.encoder.layers.5.layer_norm2.weight', 'visual_projection.weight', 'prompts_generator.decoder.1.cross_attn.proj.weight', 'text_model.encoder.layers.0.self_attn.v_proj.bias', 'text_model.encoder.layers.7.mlp.fc1.bias', 'text_model.encoder.layers.3.mlp.fc2.weight', 'text_model.encoder.layers.6.layer_norm2.bias', 'text_model.final_layer_norm.weight', 'text_model.encoder.layers.3.mlp.fc1.bias', 'mit.encoder.layers.0.self_attn.k_proj.weight', 'prompts_generator.decoder.1.cross_attn.proj.bias', 'logit_scale', 'text_model.encoder.layers.5.layer_norm1.bias', 'text_model.encoder.layers.5.self_attn.out_proj.bias', 'text_model.encoder.layers.9.self_attn.v_proj.bias', 'text_model.encoder.layers.3.layer_norm2.bias', 'prompts_visual_layernorm.weight', 'text_model.encoder.layers.0.mlp.fc2.weight', 'text_model.encoder.layers.5.self_attn.q_proj.weight', 'mit.encoder.layers.0.layer_norm1.weight', 'mit.encoder.layers.0.self_attn.v_proj.weight', 'text_model.encoder.layers.7.self_attn.q_proj.weight', 'text_model.encoder.layers.6.mlp.fc2.weight', 'text_model.encoder.layers.11.mlp.fc1.bias', 'text_model.encoder.layers.2.mlp.fc2.weight', 'prompts_generator.decoder.1.norm1.bias', 'text_model.encoder.layers.6.self_attn.v_proj.bias', 'prompts_generator.decoder.1.mlp.0.weight', 'text_model.encoder.layers.10.mlp.fc2.weight', 'text_model.encoder.layers.7.self_attn.k_proj.bias', 'text_model.encoder.layers.0.mlp.fc1.bias', 'text_model.encoder.layers.9.self_attn.v_proj.weight', 'text_model.encoder.layers.1.self_attn.out_proj.bias', 'prompts_generator.decoder.1.mlp.3.bias', 'text_model.encoder.layers.2.self_attn.k_proj.weight', 'text_model.encoder.layers.0.self_attn.q_proj.weight', 'text_model.encoder.layers.5.mlp.fc1.weight', 'text_model.encoder.layers.0.mlp.fc1.weight', 'text_model.encoder.layers.5.self_attn.v_proj.bias', 'text_model.encoder.layers.4.layer_norm2.weight', 'text_model.encoder.layers.0.layer_norm1.weight', 'text_model.encoder.layers.1.self_attn.v_proj.weight', 'text_model.encoder.layers.5.self_attn.out_proj.weight', 'text_model.encoder.layers.11.self_attn.v_proj.weight', 'text_model.encoder.layers.6.self_attn.k_proj.bias', 'text_model.encoder.layers.2.mlp.fc1.bias', 'text_model.encoder.layers.2.self_attn.v_proj.weight', 'text_model.encoder.layers.2.self_attn.out_proj.bias', 'text_model.encoder.layers.8.mlp.fc2.weight', 'mit.encoder.layers.0.self_attn.v_proj.bias', 'text_model.encoder.layers.10.layer_norm1.bias', 'text_model.encoder.layers.2.layer_norm2.weight', 'text_model.encoder.layers.5.mlp.fc1.bias', 'text_model.encoder.layers.7.self_attn.k_proj.weight', 'mit.encoder.layers.0.self_attn.k_proj.bias', 'text_model.encoder.layers.10.mlp.fc1.bias', 'text_model.encoder.layers.11.mlp.fc2.weight', 'text_model.encoder.layers.1.mlp.fc2.weight', 'text_model.encoder.layers.0.mlp.fc2.bias', 'prompts_generator.decoder.0.norm1.weight', 'text_model.encoder.layers.6.layer_norm2.weight', 'text_model.encoder.layers.1.self_attn.q_proj.bias', 'text_model.encoder.layers.1.layer_norm1.weight', 'mit.encoder.layers.0.mlp.fc2.bias', 'text_model.encoder.layers.3.self_attn.v_proj.bias', 'text_model.encoder.layers.11.layer_norm2.bias', 'prompts_generator.decoder.0.cross_attn.k_proj.weight', 'text_model.encoder.layers.2.self_attn.q_proj.weight', 'text_model.encoder.layers.8.self_attn.v_proj.weight', 'prompts_generator.alpha', 'text_model.encoder.layers.0.layer_norm2.bias', 'text_model.encoder.layers.9.layer_norm2.weight', 'mit.encoder.layers.0.self_attn.q_proj.bias', 'prompts_generator.decoder.0.mlp.3.weight', 'text_model.encoder.layers.6.self_attn.k_proj.weight', 'mit.encoder.layers.0.mlp.fc1.weight', 'text_model.encoder.layers.7.self_attn.q_proj.bias', 'text_model.encoder.layers.1.layer_norm2.bias', 'text_model.encoder.layers.4.self_attn.v_proj.weight', 'text_model.encoder.layers.11.self_attn.q_proj.weight', 'text_model.encoder.layers.8.layer_norm2.weight', 'text_model.encoder.layers.9.mlp.fc1.bias', 'text_model.encoder.layers.8.self_attn.out_proj.bias', 'prompts_visual_projection', 'text_model.encoder.layers.3.self_attn.out_proj.bias', 'text_model.encoder.layers.3.self_attn.q_proj.bias', 'text_model.encoder.layers.0.self_attn.q_proj.bias', 'text_model.encoder.layers.1.self_attn.v_proj.bias', 'text_model.encoder.layers.10.layer_norm2.bias', 'text_model.encoder.layers.4.mlp.fc1.bias', 'prompts_generator.decoder.0.mlp.0.weight', 'text_model.encoder.layers.5.self_attn.k_proj.bias', 'text_model.encoder.layers.4.mlp.fc1.weight', 'text_model.encoder.layers.8.self_attn.q_proj.weight', 'text_model.encoder.layers.10.self_attn.q_proj.weight', 'prompts_generator.decoder.1.mlp.0.bias', 'text_model.encoder.layers.3.self_attn.v_proj.weight', 'text_model.encoder.layers.2.self_attn.v_proj.bias', 'prompts_generator.decoder.1.mlp.3.weight', 'prompts_generator.layernorm.weight', 'text_model.encoder.layers.7.self_attn.out_proj.bias', 'text_model.encoder.layers.8.self_attn.out_proj.weight', 'text_model.encoder.layers.6.layer_norm1.weight', 'mit.encoder.layers.0.self_attn.q_proj.weight', 'mit.encoder.layers.0.self_attn.out_proj.bias', 'text_model.encoder.layers.9.layer_norm1.weight', 'mit.encoder.layers.0.layer_norm2.bias', 'text_model.encoder.layers.3.layer_norm2.weight', 'text_model.encoder.layers.4.self_attn.k_proj.bias', 'text_model.encoder.layers.6.self_attn.q_proj.bias', 'text_model.encoder.layers.8.self_attn.k_proj.weight', 'text_model.encoder.layers.6.layer_norm1.bias', 'text_model.encoder.layers.4.self_attn.k_proj.weight', 'text_model.encoder.layers.1.mlp.fc1.weight', 'text_model.encoder.layers.11.self_attn.k_proj.bias', 'prompts_generator.decoder.0.norm3.weight', 'text_model.encoder.layers.2.mlp.fc1.weight', 'prompts_generator.decoder.0.norm1.bias', 'text_model.encoder.layers.3.layer_norm1.weight', 'text_model.encoder.layers.5.layer_norm2.bias', 'text_model.encoder.layers.7.layer_norm1.weight', 'text_model.encoder.layers.10.self_attn.q_proj.bias', 'text_model.encoder.layers.7.layer_norm2.bias', 'text_model.encoder.layers.10.self_attn.v_proj.weight', 'text_model.encoder.layers.9.mlp.fc2.weight', 'text_model.encoder.layers.8.self_attn.k_proj.bias', 'prompts_generator.decoder.1.norm1.weight', 'text_model.encoder.layers.0.layer_norm1.bias', 'text_model.encoder.layers.0.self_attn.v_proj.weight', 'text_model.encoder.layers.1.self_attn.k_proj.bias', 'text_model.encoder.layers.4.self_attn.out_proj.weight', 'text_model.encoder.layers.8.self_attn.q_proj.bias', 'text_model.encoder.layers.2.self_attn.q_proj.bias', 'prompts_generator.layernorm.bias', 'prompts_generator.decoder.0.cross_attn.q_proj.weight', 'text_model.encoder.layers.4.self_attn.q_proj.weight', 'text_model.encoder.layers.2.self_attn.k_proj.bias', 'text_model.encoder.layers.11.self_attn.out_proj.bias', 'text_model.encoder.layers.2.layer_norm2.bias', 'prompts_visual_layernorm.bias', 'text_model.encoder.layers.0.self_attn.out_proj.weight', 'text_model.encoder.layers.11.layer_norm1.weight', 'prompts_generator.decoder.0.norm3.bias', 'prompts_generator.decoder.0.cross_attn.proj.weight', 'prompts_generator.decoder.0.cross_attn.v_proj.weight', 'text_model.encoder.layers.0.self_attn.k_proj.bias', 'text_model.encoder.layers.5.mlp.fc2.weight', 'text_model.encoder.layers.9.self_attn.q_proj.bias', 'text_model.encoder.layers.10.layer_norm1.weight', 'mit.encoder.layers.0.mlp.fc2.weight', 'text_model.encoder.layers.6.self_attn.q_proj.weight', 'text_model.encoder.layers.8.mlp.fc1.weight', 'text_model.encoder.layers.3.layer_norm1.bias', 'prompts_generator.decoder.1.norm3.bias', 'text_model.encoder.layers.4.layer_norm1.bias', 'text_model.encoder.layers.6.self_attn.out_proj.weight', 'text_model.encoder.layers.8.self_attn.v_proj.bias', 'text_model.embeddings.position_ids', 'text_model.encoder.layers.7.self_attn.v_proj.bias', 'text_model.encoder.layers.2.layer_norm1.weight', 'text_model.encoder.layers.10.layer_norm2.weight', 'text_model.encoder.layers.9.self_attn.q_proj.weight', 'text_model.encoder.layers.9.mlp.fc1.weight', 'text_model.encoder.layers.9.mlp.fc2.bias', 'prompts_generator.decoder.0.mlp.3.bias', 'text_model.encoder.layers.10.self_attn.out_proj.weight', 'text_model.encoder.layers.11.self_attn.q_proj.bias', 'text_model.encoder.layers.7.layer_norm2.weight', 'text_model.encoder.layers.5.self_attn.v_proj.weight', 'text_model.encoder.layers.3.mlp.fc2.bias', 'text_model.encoder.layers.0.self_attn.k_proj.weight', 'text_model.encoder.layers.8.layer_norm1.weight', 'text_model.encoder.layers.6.mlp.fc2.bias']\n",
      "- This IS expected if you are initializing XCLIPVisionModel from the checkpoint of a model trained on another task or with another architecture (e.g. initializing a BertForSequenceClassification model from a BertForPreTraining model).\n",
      "- This IS NOT expected if you are initializing XCLIPVisionModel from the checkpoint of a model that you expect to be exactly identical (initializing a BertForSequenceClassification model from a BertForSequenceClassification model).\n"
     ]
    }
   ],
   "source": [
    "model = XCLIPClassificaionModel()\n",
    "model.load_state_dict(torch.load(\"XCLIP_Augmented.pt\"))\n",
    "\n",
    "device = 'cuda'\n",
    "answer_model = EmotionClassificationModel(model, device=device)"
   ]
  },
  {
   "cell_type": "markdown",
   "id": "e8762327",
   "metadata": {},
   "source": [
    "### Run Tests"
   ]
  },
  {
   "cell_type": "code",
   "execution_count": 15,
   "id": "1e20f1ad",
   "metadata": {},
   "outputs": [
    {
     "name": "stderr",
     "output_type": "stream",
     "text": [
      "100%|█████████████████████████████████████████████████████████████████████████████████| 156/156 [21:28<00:00,  8.26s/it]\n"
     ]
    }
   ],
   "source": [
    "best_fscore, gold, pred = test(test_dataloader, answer_model)"
   ]
  },
  {
   "cell_type": "code",
   "execution_count": 16,
   "id": "3f3527c6",
   "metadata": {},
   "outputs": [
    {
     "name": "stdout",
     "output_type": "stream",
     "text": [
      "F score: 0.3833\n"
     ]
    }
   ],
   "source": [
    "print(f'F score: {best_fscore:.4f}')"
   ]
  },
  {
   "cell_type": "markdown",
   "id": "d7b0d8fc",
   "metadata": {},
   "source": [
    "### Confusion Matrix"
   ]
  },
  {
   "cell_type": "code",
   "execution_count": 17,
   "id": "c9d5c4d3",
   "metadata": {},
   "outputs": [],
   "source": [
    "from sklearn.metrics import confusion_matrix\n",
    "import seaborn as sns\n",
    "import matplotlib.pyplot as plt\n",
    "from collections import Counter"
   ]
  },
  {
   "cell_type": "code",
   "execution_count": 18,
   "id": "7cc51063",
   "metadata": {},
   "outputs": [],
   "source": [
    "gold_l = [id2label[g] for g in gold]\n",
    "pred_l = [id2label[g] for g in pred]\n",
    "labels = list(set(gold_l))"
   ]
  },
  {
   "cell_type": "code",
   "execution_count": 19,
   "id": "58a58903",
   "metadata": {},
   "outputs": [
    {
     "data": {
      "image/png": "[encoded data removed]",
      "text/plain": [
       "<Figure size 640x480 with 2 Axes>"
      ]
     },
     "metadata": {},
     "output_type": "display_data"
    }
   ],
   "source": [
    "cf_matrix = confusion_matrix(gold, pred, normalize='true')\n",
    "sns.heatmap(cf_matrix, annot=True, xticklabels=sorted(labels), yticklabels=sorted(labels))\n",
    "plt.ylabel('Gold')\n",
    "plt.xlabel('Pred')\n",
    "plt.show()"
   ]
  }
 ],
 "metadata": {
  "kernelspec": {
   "display_name": "Python 3 (ipykernel)",
   "language": "python",
   "name": "python3"
  },
  "language_info": {
   "codemirror_mode": {
    "name": "ipython",
    "version": 3
   },
   "file_extension": ".py",
   "mimetype": "text/x-python",
   "name": "python",
   "nbconvert_exporter": "python",
   "pygments_lexer": "ipython3",
   "version": "3.8.16"
  }
 },
 "nbformat": 4,
 "nbformat_minor": 5
}
